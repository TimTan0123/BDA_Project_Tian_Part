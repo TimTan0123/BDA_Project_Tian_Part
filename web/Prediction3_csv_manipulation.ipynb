{
 "cells": [
  {
   "cell_type": "code",
   "execution_count": 32,
   "metadata": {
    "collapsed": true
   },
   "outputs": [],
   "source": [
    "import csv\n",
    "import json\n",
    "\n",
    "\n",
    "business_id = 'x8GTTMIAtUJ5EsIMnsOacQ'\n",
    "actual = business_id + '_actual.csv'\n",
    "actual_data = open('/home/hs2865/web2/travelcolumbia/algorithm/predict3/' + actual , 'r')\n",
    "actual_reader = csv.reader(actual_data)\n",
    "\n",
    "prediction = business_id + '_prediction.csv'\n",
    "prediction_data = open('/home/hs2865/web2/travelcolumbia/algorithm/predict3/' + prediction , 'r')\n",
    "prediction_reader = csv.reader(prediction_data)\n",
    "\n"
   ]
  },
  {
   "cell_type": "code",
   "execution_count": null,
   "metadata": {
    "collapsed": false
   },
   "outputs": [],
   "source": []
  },
  {
   "cell_type": "code",
   "execution_count": 33,
   "metadata": {
    "collapsed": false
   },
   "outputs": [],
   "source": [
    "data_list = {}\n",
    "last_date = []\n",
    "for r in actual_reader:\n",
    "    info = r[0].split('-')\n",
    "    last = [info[0], info[1]]\n",
    "    if info[0] in data_list:\n",
    "        data_list[info[0]][info[1]] = r[1]\n",
    "    else:\n",
    "        data_list[info[0]] = {}\n",
    "        data_list[info[0]][info[1]] = r[1]\n",
    "last_date = last\n",
    "\n",
    "for r in prediction_reader:\n",
    "    info = r[0].split('-')\n",
    "    if info[0] in data_list:\n",
    "        data_list[info[0]][info[1]] = r[1]\n",
    "    else:\n",
    "        data_list[info[0]] = {}\n",
    "        data_list[info[0]][info[1]] = r[1]\n"
   ]
  },
  {
   "cell_type": "code",
   "execution_count": 38,
   "metadata": {
    "collapsed": false
   },
   "outputs": [
    {
     "name": "stdout",
     "output_type": "stream",
     "text": [
      "[{\"2015\": {\"02\": \"0.776832494865\", \"03\": \"-0.455737103847\", \"01\": \"-0.911251955545\", \"06\": \"-0.160992199807\", \"07\": \"0.501226870308\", \"04\": \"0.383839289479\", \"05\": \"-0.196718854842\", \"08\": \"-0.305174771913\", \"09\": \"0.294522651891\", \"12\": \"0.294522651891\", \"11\": \"-0.866593636751\", \"10\": \"0.294522651891\"}, \"2014\": {\"02\": \"0.133752704233\", \"03\": \"-0.527190413917\", \"01\": \"-0.375352130018\", \"06\": \"-0.5093270864\", \"07\": \"0.0712310579211\", \"04\": \"0.205206014303\", \"05\": \"0.562472564654\", \"08\": \"-0.047857792196\", \"09\": \"0.32429486442\", \"12\": \"0.666675308507\", \"11\": \"0.190319908038\", \"10\": \"-0.375352130018\"}, \"2016\": {\"02\": \"-0.241377173636\", \"03\": \"0.294522651891\", \"01\": \"0.294522651891\", \"06\": \"0.562472564654\", \"07\": \"-0.911251955545\", \"04\": \"0.0265727391272\", \"05\": \"-0.107402217255\"}, \"2011\": {\"11\": \"0.145661589244\", \"10\": \"-0.0375520263205\", \"12\": \"-0.420010448812\", \"06\": \"-0.263706333033\", \"07\": \"-0.0404147390637\", \"04\": \"0.160547695509\", \"03\": \"-0.28603549243\", \"02\": \"0.0173010887074\", \"08\": \"0.294522651891\", \"09\": \"0.150241929633\", \"05\": \"0.115889376715\"}, \"2013\": {\"02\": \"-0.241377173636\", \"03\": \"1.00905575259\", \"01\": \"-0.107402217255\", \"06\": \"0.267727660614\", \"07\": \"0.106957712956\", \"04\": \"-0.866593636751\", \"05\": \"0.0980260491975\", \"08\": \"0.258795996856\", \"09\": \"-0.553985405194\", \"12\": \"0.160547695509\", \"11\": \"0.677308241553\", \"10\": \"-0.222237894153\"}, \"2012\": {\"02\": \"-0.0538122347019\", \"03\": \"0.0878184334732\", \"01\": \"0.160547695509\", \"06\": \"0.205206014303\", \"07\": \"-0.0180855796667\", \"04\": \"-0.141852920324\", \"05\": \"0.0801627216799\", \"08\": \"0.398725395743\", \"09\": \"-0.640324821529\", \"12\": \"0.339180970685\", \"11\": \"0.00105369981638\", \"10\": \"0.302178363684\"}}, [\"2016\", \"01\"]]\n"
     ]
    }
   ],
   "source": [
    "import json\n",
    "result = [data_list, last_date]\n",
    "print json.dumps(result)\n"
   ]
  },
  {
   "cell_type": "code",
   "execution_count": 35,
   "metadata": {
    "collapsed": false
   },
   "outputs": [
    {
     "data": {
      "text/plain": [
       "['2016', '01']"
      ]
     },
     "execution_count": 35,
     "metadata": {},
     "output_type": "execute_result"
    }
   ],
   "source": [
    "last_date"
   ]
  },
  {
   "cell_type": "code",
   "execution_count": null,
   "metadata": {
    "collapsed": true
   },
   "outputs": [],
   "source": [
    "import csv\n",
    "import json\n",
    "\n",
    "def predict_rate(business_id, mode):\n",
    "    actual = business_id + '_actual.csv'\n",
    "    actual_data = open('/home/hs2865/web2/travelcolumbia/algorithm/predict3/' + actual , 'r')\n",
    "    actual_reader = csv.reader(actual_data)\n",
    "\n",
    "    prediction = business_id + '_prediction.csv'\n",
    "    prediction_data = open('/home/hs2865/web2/travelcolumbia/algorithm/predict3/' + prediction , 'r')\n",
    "    prediction_reader = csv.reader(prediction_data)\n",
    "\n",
    "    data_list = {}\n",
    "    last_date = []\n",
    "    for r in actual_reader:\n",
    "        info = r[0].split('-')\n",
    "        last = [info[0], info[1]]\n",
    "        if info[0] in data_list:\n",
    "            data_list[info[0]][info[1]] = r[1]\n",
    "        else:\n",
    "            data_list[info[0]] = {}\n",
    "            data_list[info[0]][info[1]] = r[1]\n",
    "    last_date = last\n",
    "\n",
    "    for r in prediction_reader:\n",
    "        info = r[0].split('-')\n",
    "        if info[0] in data_list:\n",
    "            data_list[info[0]][info[1]] = r[1]\n",
    "        else:\n",
    "            data_list[info[0]] = {}\n",
    "            data_list[info[0]][info[1]] = r[1]\n",
    "    result = [data_list, last_date]\n",
    "    return json.dumps(result) "
   ]
  }
 ],
 "metadata": {
  "kernelspec": {
   "display_name": "Python 2",
   "language": "python",
   "name": "python2"
  },
  "language_info": {
   "codemirror_mode": {
    "name": "ipython",
    "version": 2
   },
   "file_extension": ".py",
   "mimetype": "text/x-python",
   "name": "python",
   "nbconvert_exporter": "python",
   "pygments_lexer": "ipython2",
   "version": "2.7.12"
  }
 },
 "nbformat": 4,
 "nbformat_minor": 2
}
