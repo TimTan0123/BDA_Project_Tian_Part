{
 "cells": [
  {
   "cell_type": "code",
   "execution_count": null,
   "metadata": {
    "collapsed": true
   },
   "outputs": [],
   "source": [
    "### Prediction 1: KNN"
   ]
  },
  {
   "cell_type": "code",
   "execution_count": 57,
   "metadata": {
    "collapsed": true
   },
   "outputs": [],
   "source": [
    "import pandas as pd\n",
    "import numpy as np\n",
    "import nltk\n",
    "import random\n",
    "import time\n",
    "import string\n",
    "from nltk.corpus import stopwords\n",
    "from nltk.stem.wordnet import WordNetLemmatizer\n",
    "from sklearn.ensemble import RandomForestClassifier\n",
    "from copy import copy, deepcopy\n",
    "import collections\n",
    "import matplotlib.pyplot as plt\n",
    "from statsmodels.tsa.arima_model import ARIMA\n",
    "from statsmodels.tsa.stattools import adfuller\n",
    "from statsmodels.tsa.seasonal import seasonal_decompose\n",
    "from statsmodels.tsa.stattools import acf, pacf\n",
    "from pandas.tseries.offsets import *\n",
    "lmtzr=WordNetLemmatizer()\n",
    "from sklearn.neighbors import NearestNeighbors\n",
    "from sklearn.externals import joblib"
   ]
  },
  {
   "cell_type": "code",
   "execution_count": 42,
   "metadata": {
    "collapsed": true
   },
   "outputs": [],
   "source": [
    "data_ads = \"/home/hs2865/web2/data/\"\n",
    "user_raw = pd.read_csv(data_ads + \"wow3_user2.csv\", names = [\"user_id\", \"review_count\", \"average_stars\", \n",
    "                                               \"friends\", \"fans\", \"votes_cool\", \"votes_funny\", \n",
    "                                               \"votes_useful\", \"num\", \"degree\", \"coefficient\"])\n",
    "\n",
    "business_raw = pd.read_csv(data_ads+\"wow3_business_mysql.csv\", names = [\"business_id\", \"name\", \"latitude\", \n",
    "                                                           \"longitude\", \"stars\", \"categories\", \n",
    "                                                           \"review_count\", \"open\"])\n",
    "review_raw = pd.read_csv(data_ads+\"wow3_review_mysql.csv\", names = [\"review_id\", \"user_id\", \"business_id\", \n",
    "                                                       \"stars\", \"text\", \"date\", \"votes_funny\", \n",
    "                                                       \"votes_useful\"])\n",
    "all_raw = pd.read_csv(data_ads+\"wow3_all2.csv\", names = [\"business_id\", \n",
    "                                                       \"name\", \"stars_business\",\"business_review_count\",\n",
    "                                                       \"categories\", \"open\", \"review_id\", \n",
    "                                                       \"stars_review\", \"text\", \"date\", \"votes_funny\", \n",
    "                                                       \"votes_useful\",\"user_id\", \"user_review_count\", \n",
    "                                                       \"average_stars\",\"friends\", \"fans\", \"num\", \n",
    "                                                       \"degree\", \"coefficient\"])"
   ]
  },
  {
   "cell_type": "code",
   "execution_count": 43,
   "metadata": {
    "collapsed": false
   },
   "outputs": [
    {
     "name": "stderr",
     "output_type": "stream",
     "text": [
      "/usr/local/lib/python2.7/dist-packages/ipykernel/__main__.py:26: SettingWithCopyWarning: \n",
      "A value is trying to be set on a copy of a slice from a DataFrame.\n",
      "Try using .loc[row_indexer,col_indexer] = value instead\n",
      "\n",
      "See the caveats in the documentation: http://pandas.pydata.org/pandas-docs/stable/indexing.html#indexing-view-versus-copy\n",
      "/usr/local/lib/python2.7/dist-packages/ipykernel/__main__.py:27: SettingWithCopyWarning: \n",
      "A value is trying to be set on a copy of a slice from a DataFrame.\n",
      "Try using .loc[row_indexer,col_indexer] = value instead\n",
      "\n",
      "See the caveats in the documentation: http://pandas.pydata.org/pandas-docs/stable/indexing.html#indexing-view-versus-copy\n"
     ]
    }
   ],
   "source": [
    "# Train\n",
    "typ ='Restaurants'\n",
    "weight =100\n",
    "bus_gb_df = deepcopy(all_raw)\n",
    "#Group by different businesses for different rates:\n",
    "bus_df = bus_gb_df.groupby(['business_id']).mean()\n",
    "\n",
    "bus_df['business_id'] = bus_df.index\n",
    "bus_df.index = range(len(bus_df))\n",
    "bus = list(set(bus_df['business_id']))\n",
    "ind = [True if i in bus else False for i in business_raw['business_id']]\n",
    "business_revised = business_raw[ind]\n",
    "\n",
    "#Merge two tables:\n",
    "knn_df = pd.merge(bus_df,business_revised,on='business_id')\n",
    "\n",
    "#Only choose open business for recommendation:\n",
    "knn_df_open = knn_df[knn_df['open']==\"T\"]\n",
    "\n",
    "#Filter the type of business:\n",
    "ind = [True if typ in i else False for i in knn_df_open.categories.values]\n",
    "knn_df_open_typ = knn_df_open[ind]\n",
    "\n",
    "#Set training data:\n",
    "trainX = knn_df_open_typ[['stars_business','stars_review','average_stars','latitude','longitude']]\n",
    "trainX['latitude'] = trainX['latitude'].map(lambda x:x*weight)\n",
    "trainX['longitude'] = trainX['longitude'].map(lambda x:x*weight)\n",
    "#trainY = knn_df_open[['business_id']]\n"
   ]
  },
  {
   "cell_type": "code",
   "execution_count": 70,
   "metadata": {
    "collapsed": false
   },
   "outputs": [
    {
     "data": {
      "text/plain": [
       "['prediction1.pkl']"
      ]
     },
     "execution_count": 70,
     "metadata": {},
     "output_type": "execute_result"
    }
   ],
   "source": [
    "num_recommend = 20\n",
    "prediction1 = NearestNeighbors(n_neighbors=num_recommend)\n",
    "prediction1.fit(trainX)\n",
    "joblib.dump(prediction1, 'prediction1.pkl') "
   ]
  },
  {
   "cell_type": "code",
   "execution_count": 77,
   "metadata": {
    "collapsed": true
   },
   "outputs": [],
   "source": [
    "knn_df_open_typ.to_pickle(\"knn_df_open_typ\")"
   ]
  },
  {
   "cell_type": "code",
   "execution_count": 78,
   "metadata": {
    "collapsed": false
   },
   "outputs": [],
   "source": [
    "def prediction1(lat, lng):\n",
    "    latitude = lat\n",
    "    longitude = lng    \n",
    "\n",
    "    longitude *= weight\n",
    "    latitude *= weight\n",
    "    testX = [5,5,5,latitude,longitude]\n",
    "    prediction1 = joblib.load('prediction1.pkl') \n",
    "    result = prediction1.kneighbors(testX)\n",
    "    knn_df_open_typ = read_pickle(\"knn_df_open_typ\")\n",
    "    return knn_df_open_typ.iloc[result[1][0]]"
   ]
  },
  {
   "cell_type": "code",
   "execution_count": 72,
   "metadata": {
    "collapsed": false
   },
   "outputs": [
    {
     "name": "stderr",
     "output_type": "stream",
     "text": [
      "/usr/local/lib/python2.7/dist-packages/sklearn/utils/validation.py:395: DeprecationWarning: Passing 1d arrays as data is deprecated in 0.17 and will raise ValueError in 0.19. Reshape your data either using X.reshape(-1, 1) if your data has a single feature or X.reshape(1, -1) if it contains a single sample.\n",
      "  DeprecationWarning)\n"
     ]
    },
    {
     "data": {
      "text/plain": [
       "pandas.core.frame.DataFrame"
      ]
     },
     "execution_count": 72,
     "metadata": {},
     "output_type": "execute_result"
    }
   ],
   "source": [
    "result_pred1 = prediction1(40.3719, -80.0089)\n",
    "type(result_pred1)"
   ]
  },
  {
   "cell_type": "code",
   "execution_count": 74,
   "metadata": {
    "collapsed": false
   },
   "outputs": [
    {
     "name": "stdout",
     "output_type": "stream",
     "text": [
      "      stars_business  business_review_count  stars_review  votes_funny  \\\n",
      "2404             4.0                    9.0      3.833333     0.000000   \n",
      "2959             4.5                   26.0      4.500000     0.041667   \n",
      "1533             4.5                    3.0      5.000000     0.000000   \n",
      "475              4.0                   20.0      3.941176     0.529412   \n",
      "3456             4.5                   27.0      4.346154     0.384615   \n",
      "2250             3.5                    3.0      4.000000     0.000000   \n",
      "2854             4.0                   70.0      4.000000     0.109375   \n",
      "2282             4.0                   52.0      3.872340     0.127660   \n",
      "473              4.0                   14.0      3.800000     0.000000   \n",
      "1531             4.0                   24.0      4.047619     0.380952   \n",
      "3172             4.5                   11.0      4.625000     0.375000   \n",
      "2688             4.0                   80.0      4.026667     0.173333   \n",
      "3592             4.0                   40.0      4.000000     0.135135   \n",
      "2695             3.5                    4.0      3.500000     0.000000   \n",
      "1553             3.5                   25.0      3.363636     0.090909   \n",
      "3014             3.5                   12.0      3.416667     0.416667   \n",
      "2644             4.0                    5.0      3.800000     0.000000   \n",
      "1708             4.0                   10.0      4.000000     0.000000   \n",
      "1574             4.5                  170.0      4.673203     0.418301   \n",
      "1794             3.5                   21.0      3.450000     0.100000   \n",
      "\n",
      "      votes_useful  user_review_count  average_stars      fans           num  \\\n",
      "2404      1.666667         116.833333       3.815000  1.833333   5411.666667   \n",
      "2959      0.375000          63.500000       3.879167  3.458333  11524.708333   \n",
      "1533      1.000000          14.000000       4.270000  0.000000   4118.000000   \n",
      "475       0.764706          55.470588       3.705294  1.823529   4430.529412   \n",
      "3456      1.230769          59.653846       3.736538  3.307692  16975.961538   \n",
      "2250      1.000000          29.000000       3.620000  1.000000    970.000000   \n",
      "2854      0.625000          99.140625       3.807500  4.015625   7652.656250   \n",
      "2282      0.340426          79.702128       3.740213  2.851064   5784.148936   \n",
      "473       0.200000          47.300000       3.407000  1.300000   3897.700000   \n",
      "1531      1.190476         132.142857       3.696667  7.666667   7630.904762   \n",
      "3172      1.375000          97.875000       4.251250  7.125000  13281.875000   \n",
      "2688      1.173333          98.146667       3.724400  5.413333   8871.506667   \n",
      "3592      0.675676          72.054054       3.762973  4.513514  15421.540541   \n",
      "2695      0.500000         218.500000       4.555000  4.000000   9420.500000   \n",
      "1553      0.545455          61.454545       3.690455  1.727273   6921.681818   \n",
      "3014      0.500000          37.333333       3.933333  1.500000  16022.166667   \n",
      "2644      0.600000          24.400000       3.716000  0.200000   8605.000000   \n",
      "1708      0.857143          43.428571       3.901429  0.857143   5100.571429   \n",
      "1574      1.143791          86.555556       4.029477  5.111111   8534.267974   \n",
      "1794      0.600000         125.450000       3.644000  6.700000  11234.950000   \n",
      "\n",
      "          degree  coefficient             business_id  \\\n",
      "2404   14.666667     0.154708  e5HRYpEIkyrKNR6yA2rnqQ   \n",
      "2959   91.875000     0.048626  nrCa99QfoXdTB7dzwTQqIQ   \n",
      "1533    2.000000     0.000000  PscxgmrteHI-6qdI-vIm5g   \n",
      "475    16.882353     0.074838  7UBqeUvQeZd5o2Jw9F8r0g   \n",
      "3456   84.115385     0.046056  wwmMJIDyq7QHBzb9YSaCkQ   \n",
      "2250    6.000000     0.000000  bg1e__l7Jh3oDhasW5KFvw   \n",
      "2854   42.812500     0.122866  mKEUpLDkL_SZvjI5Hc9gpw   \n",
      "2282   25.319149     0.209974  cESul2ojJOjadz-7BKB5eg   \n",
      "473     3.100000     0.058788  7QBJDNVH6VPAStSvOM_lZA   \n",
      "1531   80.285714     0.122623  PpPYKumy4syUJrxFpH1b5Q   \n",
      "3172  238.625000     0.006825  rnA9vLY10Ka3g8IfF4duqg   \n",
      "2688  104.760000     0.102365  jPFmnprx_NbQRDMiQd-YAA   \n",
      "3592  155.324324     0.040751  zQ5rJZ9JOhEOsFYLkO7qUg   \n",
      "2695   26.000000     0.183077  jVVyiaDle64frINmX2hgqw   \n",
      "1553   41.818182     0.094118  Q7j23Jw4sk9nhYeYnOL8YA   \n",
      "3014   11.833333     0.206961  ov7YsASN1XDdJL0ntXk6tA   \n",
      "2644    0.800000     0.000000  iSmnbxX4LHq51jOuj7WFrA   \n",
      "1708    8.142857     0.154579  T4D7wX6GuCYChwRmser-0A   \n",
      "1574   47.137255     0.138908  QR_Nmup1tRj1WwooAKePbg   \n",
      "1794  218.200000     0.096983  UjJMQguryo1jypomvOCZgg   \n",
      "\n",
      "                                  name  latitude  longitude  stars  \\\n",
      "2404               Trolley Barn Eatery   40.3682   -80.0128    4.0   \n",
      "2959                     Kabob-G Grill   40.3655   -80.0256    4.5   \n",
      "1533                  Boulevard Lounge   40.3920   -80.0140    4.5   \n",
      "475                  The Original Gyro   40.3652   -80.0181    4.0   \n",
      "3456        Franco's Pizzeria Italiana   40.3658   -80.0251    4.5   \n",
      "2250                       Burger King   40.3698   -80.0117    3.5   \n",
      "2854                       Armstrong's   40.3596   -80.0024    4.0   \n",
      "2282                             Amels   40.3830   -80.0153    4.0   \n",
      "473   Silver Palace Chinese Restaurant   40.3774   -80.0038    4.0   \n",
      "1531                          Frisch's   40.3593   -80.0023    4.0   \n",
      "3172    Jolina's Mediterranean Cuisine   40.3920   -80.0173    4.5   \n",
      "2688                         Silk Road   40.3578   -80.0011    4.0   \n",
      "3592                Someone Else's Bar   40.3649   -80.0261    4.0   \n",
      "2695                  Jb's Pizza Place   40.3822   -79.9972    3.5   \n",
      "1553                       Bob's Diner   40.3660   -80.0139    3.5   \n",
      "3014     Pittsburgh Sports Bar & Grill   40.3651   -80.0187    3.5   \n",
      "2644                  Express Pizzeria   40.3783   -79.9909    4.0   \n",
      "1708                   The Tong Garden   40.3918   -80.0178    4.0   \n",
      "1574             Las Palmas Carniceria   40.3946   -80.0217    4.5   \n",
      "1794         Bellisario's Pizza Palace   40.3830   -80.0153    3.5   \n",
      "\n",
      "                                             categories  review_count open  \n",
      "2404          [Breakfast & Brunch, Diners, Restaurants]             9    T  \n",
      "2959  [Middle Eastern, Lebanese, Mediterranean, Rest...            26    T  \n",
      "1533  [Bars, American (Traditional), Nightlife, Rest...             3    T  \n",
      "475                                [Greek, Restaurants]            20    T  \n",
      "3456                               [Pizza, Restaurants]            27    T  \n",
      "2250                  [Burgers, Fast Food, Restaurants]             3    T  \n",
      "2854  [American (Traditional), Steakhouses, Diners, ...            70    T  \n",
      "2282       [Middle Eastern, Mediterranean, Restaurants]            52    T  \n",
      "473                              [Chinese, Restaurants]            14    T  \n",
      "1531    [Sandwiches, Pizza, Chicken Wings, Restaurants]            24    T  \n",
      "3172  [Middle Eastern, Mediterranean, Soup, Restaura...            11    T  \n",
      "2688      [Steakhouses, Japanese, Chinese, Restaurants]            80    T  \n",
      "3592  [Bars, American (Traditional), Nightlife, Rest...            40    T  \n",
      "2695                               [Pizza, Restaurants]             4    T  \n",
      "1553                              [Diners, Restaurants]            25    T  \n",
      "3014  [Sandwiches, Bars, Restaurants, Sports Bars, N...            12    T  \n",
      "2644                               [Pizza, Restaurants]             5    T  \n",
      "1708                             [Chinese, Restaurants]            10    T  \n",
      "1574                             [Mexican, Restaurants]           170    T  \n",
      "1794                      [Italian, Pizza, Restaurants]            21    T  \n"
     ]
    }
   ],
   "source": [
    "print result_pred1\n",
    "#print result_pred1.to_json(orient='index')"
   ]
  },
  {
   "cell_type": "code",
   "execution_count": 76,
   "metadata": {
    "collapsed": false
   },
   "outputs": [
    {
     "data": {
      "text/plain": [
       "pandas.core.frame.DataFrame"
      ]
     },
     "execution_count": 76,
     "metadata": {},
     "output_type": "execute_result"
    }
   ],
   "source": [
    "type(knn_df_open_typ)"
   ]
  },
  {
   "cell_type": "code",
   "execution_count": null,
   "metadata": {
    "collapsed": true
   },
   "outputs": [],
   "source": [
    "### Prediction 3: Rate prediction"
   ]
  },
  {
   "cell_type": "code",
   "execution_count": 3,
   "metadata": {
    "collapsed": true
   },
   "outputs": [],
   "source": [
    "from datetime import datetime\n",
    "import pandas as pd\n",
    "import numpy as np\n",
    "import nltk\n",
    "import random\n",
    "import time\n",
    "import string\n",
    "from nltk.corpus import stopwords\n",
    "from nltk.stem.wordnet import WordNetLemmatizer\n",
    "from sklearn.ensemble import RandomForestClassifier\n",
    "from copy import copy, deepcopy\n",
    "import collections\n",
    "import matplotlib.pyplot as plt\n",
    "from statsmodels.tsa.arima_model import ARIMA\n",
    "from statsmodels.tsa.stattools import adfuller\n",
    "from statsmodels.tsa.seasonal import seasonal_decompose\n",
    "from statsmodels.tsa.stattools import acf, pacf\n",
    "lmtzr=WordNetLemmatizer()\n"
   ]
  },
  {
   "cell_type": "code",
   "execution_count": 4,
   "metadata": {
    "collapsed": false
   },
   "outputs": [],
   "source": [
    "data = '/home/hs2865/web2/data/'\n",
    "user_raw = pd.read_csv(data + \"wow3_user2.csv\", names = [\"user_id\", \"review_count\", \"average_stars\", \n",
    "                                               \"friends\", \"fans\", \"votes_cool\", \"votes_funny\", \n",
    "                                               \"votes_useful\", \"num\", \"degree\", \"coefficient\"])\n",
    "\n",
    "business_raw = pd.read_csv(data + \"wow3_business_mysql.csv\", names = [\"business_id\", \"name\", \"latitude\", \n",
    "                                                           \"longitude\", \"stars\", \"categories\", \n",
    "                                                           \"review_count\", \"open\"])\n",
    "\n",
    "review_raw = pd.read_csv(data + \"wow3_review_mysql.csv\", names = [\"review_id\", \"user_id\", \"business_id\", \n",
    "                                                       \"stars\", \"text\", \"date\", \"votes_funny\", \n",
    "                                                       \"votes_useful\"])\n",
    "\n",
    "all_raw = pd.read_csv(data + \"wow3_all2.csv\", names = [\"business_id\", \n",
    "                                                       \"name\", \"stars_business\",\"business_review_count\",\n",
    "                                                       \"categories\", \"open\", \"review_id\", \n",
    "                                                       \"stars_review\", \"text\", \"date\", \"votes_funny\", \n",
    "                                                       \"votes_useful\",\"user_id\", \"user_review_count\", \n",
    "                                                       \"average_stars\",\"friends\", \"fans\", \"num\", \n",
    "                                                       \"degree\", \"coefficient\"])\n"
   ]
  },
  {
   "cell_type": "code",
   "execution_count": 39,
   "metadata": {
    "collapsed": true
   },
   "outputs": [],
   "source": [
    "def prediction3(business_id):\n",
    "    #3. Business Rate Prediction(Time Series):\n",
    "    #Input: a given business_id\n",
    "    #Output: predicted result of next month's rate and model data visualization\n",
    "    #business_id = 'SsGNAc9U-aKPZccnaDtFkA'\n",
    "    sub_business = all_raw[all_raw['business_id']==business_id]\n",
    "    if len(sub_business) == 0:\n",
    "        return\n",
    "    dates = [datetime.strptime(date,'%Y-%m-%d') for date in sub_business.date.values]\n",
    "    rate_predict = pd.DataFrame()\n",
    "    rate_predict['rate'] = pd.Series(sub_business.stars_review.values,index = pd.Series(dates))\n",
    "    #Aggregation: group by month and take average\n",
    "    g = rate_predict.groupby(pd.TimeGrouper(\"M\"))\n",
    "    rate_predict_avg = g.mean()\n",
    "    #Rolling mean(Moving Average) of the monthly prediction:\n",
    "    moving_avg = pd.rolling_mean(rate_predict_avg,12)\n",
    "    rate_predict_moving_avg_diff = rate_predict_avg - moving_avg\n",
    "    decomposition = seasonal_decompose(rate_predict_avg)\n",
    "\n",
    "    trend = decomposition.trend\n",
    "    seasonal = decomposition.seasonal\n",
    "    residual = decomposition.resid\n",
    "\n",
    "    rate_predict_log_decompose = residual\n",
    "    rate_predict_log_decompose.dropna(inplace=True)\n",
    "    model = ARIMA(rate_predict_avg, order=(1, 1, 0))  \n",
    "    results_AR = model.fit(disp=-1)  \n",
    "    save_business_id = business_id.replace('-', '_')\n",
    "    rate_predict_log_decompose.to_csv('predict3/' + save_business_id + '_actual.csv', header=False)\n",
    "    results_AR.fittedvalues.to_csv('predict3/' + save_business_id + '_prediction.csv', header=False)"
   ]
  },
  {
   "cell_type": "code",
   "execution_count": 40,
   "metadata": {
    "collapsed": false
   },
   "outputs": [
    {
     "name": "stderr",
     "output_type": "stream",
     "text": [
      "/usr/local/lib/python2.7/dist-packages/ipykernel/__main__.py:16: FutureWarning: pd.rolling_mean is deprecated for DataFrame and will be removed in a future version, replace with \n",
      "\tDataFrame.rolling(window=12,center=False).mean()\n"
     ]
    }
   ],
   "source": [
    "error = []\n",
    "for i in range(len(business_raw)):\n",
    "    try:\n",
    "        prediction3(business_raw['business_id'][i])\n",
    "    except:\n",
    "        #print business_raw['business_id'][i]\n",
    "        error.append(business_raw['business_id'][i])\n",
    "error_pd = pd.DataFrame(error)\n",
    "error_pd.to_csv('predict3/error.csv', index=False, header=False)"
   ]
  },
  {
   "cell_type": "code",
   "execution_count": null,
   "metadata": {
    "collapsed": false
   },
   "outputs": [],
   "source": []
  },
  {
   "cell_type": "code",
   "execution_count": null,
   "metadata": {
    "collapsed": false
   },
   "outputs": [],
   "source": []
  },
  {
   "cell_type": "code",
   "execution_count": null,
   "metadata": {
    "collapsed": true
   },
   "outputs": [],
   "source": []
  },
  {
   "cell_type": "code",
   "execution_count": 5,
   "metadata": {
    "collapsed": true
   },
   "outputs": [],
   "source": [
    "#3. Business Rate Prediction(Time Series):\n",
    "#Input: a given business_id\n",
    "#Output: predicted result of next month's rate and model data visualization\n",
    "business_id = 'SsGNAc9U-aKPZccnaDtFkA'\n",
    "sub_business = all_raw[all_raw['business_id']==business_id]\n",
    "dates = [datetime.strptime(date,'%Y-%m-%d') for date in sub_business.date.values]\n",
    "rate_predict = pd.DataFrame()\n",
    "rate_predict['rate'] = pd.Series(sub_business.stars_review.values,index = pd.Series(dates))"
   ]
  },
  {
   "cell_type": "code",
   "execution_count": 6,
   "metadata": {
    "collapsed": true
   },
   "outputs": [],
   "source": [
    "#Aggregation: group by month and take average\n",
    "g = rate_predict.groupby(pd.TimeGrouper(\"M\"))\n",
    "rate_predict_avg = g.mean()"
   ]
  },
  {
   "cell_type": "code",
   "execution_count": 7,
   "metadata": {
    "collapsed": false
   },
   "outputs": [
    {
     "name": "stderr",
     "output_type": "stream",
     "text": [
      "/usr/local/lib/python2.7/dist-packages/ipykernel/__main__.py:2: FutureWarning: pd.rolling_mean is deprecated for DataFrame and will be removed in a future version, replace with \n",
      "\tDataFrame.rolling(window=12,center=False).mean()\n",
      "  from ipykernel import kernelapp as app\n"
     ]
    }
   ],
   "source": [
    "#Rolling mean(Moving Average) of the monthly prediction:\n",
    "moving_avg = pd.rolling_mean(rate_predict_avg,12)\n",
    "\n",
    "rate_predict_moving_avg_diff = rate_predict_avg - moving_avg"
   ]
  },
  {
   "cell_type": "code",
   "execution_count": 9,
   "metadata": {
    "collapsed": false
   },
   "outputs": [
    {
     "name": "stderr",
     "output_type": "stream",
     "text": [
      "/usr/lib/python2.7/dist-packages/statsmodels/tsa/filters/filtertools.py:28: VisibleDeprecationWarning: using a non-integer number instead of an integer will result in an error in the future\n",
      "  return np.r_[[np.nan] * head, x, [np.nan] * tail]\n"
     ]
    }
   ],
   "source": [
    "decomposition = seasonal_decompose(rate_predict_avg)\n",
    "\n",
    "trend = decomposition.trend\n",
    "seasonal = decomposition.seasonal\n",
    "residual = decomposition.resid\n",
    "\n",
    "rate_predict_log_decompose = residual\n",
    "rate_predict_log_decompose.dropna(inplace=True)"
   ]
  },
  {
   "cell_type": "code",
   "execution_count": 10,
   "metadata": {
    "collapsed": false
   },
   "outputs": [
    {
     "name": "stdout",
     "output_type": "stream",
     "text": [
      "5.1994639518\n"
     ]
    },
    {
     "data": {
      "image/png": "[encoded data removed]",
      "text/plain": [
       "<matplotlib.figure.Figure at 0x7f80502eee90>"
      ]
     },
     "metadata": {},
     "output_type": "display_data"
    }
   ],
   "source": [
    "model = ARIMA(rate_predict_avg, order=(1, 1, 0))  \n",
    "results_AR = model.fit(disp=-1)  \n",
    "rate_predict_log_decompose.to_csv('predict3/' + business_id + 'actual.csv', header=False)\n",
    "results_AR.fittedvalues.to_csv('predict3/' + business_id + 'prediction.csv', header=False)\n",
    "\n",
    "common = list(set(results_AR.fittedvalues.index).intersection(set(rate_predict_log_decompose.index)))\n",
    "\n",
    "'''\n",
    "plt.plot(rate_predict_log_decompose,color = 'green')\n",
    "plt.plot(results_AR.fittedvalues, color='red')\n",
    "\n",
    "res = 0.0\n",
    "for i in range(len(common)):\n",
    "    res+=(rate_predict_log_decompose[rate_predict_log_decompose.index==common[i]].values[0][0] - results_AR.fittedvalues[results_AR.fittedvalues.index==common[i]].values[0])**2\n",
    "print res\n",
    "plt.title('RSS: %.4f'% res)\n",
    "\n",
    "#plt.savefig('data.png', dpi = 75)  \n",
    "plt.show()  \n",
    "'''"
   ]
  },
  {
   "cell_type": "code",
   "execution_count": 21,
   "metadata": {
    "collapsed": false
   },
   "outputs": [],
   "source": []
  },
  {
   "cell_type": "code",
   "execution_count": 22,
   "metadata": {
    "collapsed": true
   },
   "outputs": [],
   "source": []
  },
  {
   "cell_type": "code",
   "execution_count": null,
   "metadata": {
    "collapsed": true
   },
   "outputs": [],
   "source": []
  }
 ],
 "metadata": {
  "kernelspec": {
   "display_name": "Python 2",
   "language": "python",
   "name": "python2"
  },
  "language_info": {
   "codemirror_mode": {
    "name": "ipython",
    "version": 2
   },
   "file_extension": ".py",
   "mimetype": "text/x-python",
   "name": "python",
   "nbconvert_exporter": "python",
   "pygments_lexer": "ipython2",
   "version": "2.7.12"
  }
 },
 "nbformat": 4,
 "nbformat_minor": 2
}
