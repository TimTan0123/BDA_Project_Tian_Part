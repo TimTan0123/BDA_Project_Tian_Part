{
 "cells": [
  {
   "cell_type": "code",
   "execution_count": null,
   "metadata": {
    "collapsed": true
   },
   "outputs": [],
   "source": [
    "### Prediction 2: Topic modeling"
   ]
  },
  {
   "cell_type": "code",
   "execution_count": 57,
   "metadata": {
    "collapsed": true
   },
   "outputs": [],
   "source": [
    "import pandas as pd\n",
    "import numpy as np\n",
    "import nltk\n",
    "import random\n",
    "import time\n",
    "import string\n",
    "from nltk.corpus import stopwords\n",
    "from nltk.stem.wordnet import WordNetLemmatizer\n",
    "from sklearn.ensemble import RandomForestClassifier\n",
    "from copy import copy, deepcopy\n",
    "import collections\n",
    "import matplotlib.pyplot as plt\n",
    "from statsmodels.tsa.arima_model import ARIMA\n",
    "from statsmodels.tsa.stattools import adfuller\n",
    "from statsmodels.tsa.seasonal import seasonal_decompose\n",
    "from statsmodels.tsa.stattools import acf, pacf\n",
    "from pandas.tseries.offsets import *\n",
    "lmtzr=WordNetLemmatizer()"
   ]
  },
  {
   "cell_type": "code",
   "execution_count": 42,
   "metadata": {
    "collapsed": true
   },
   "outputs": [],
   "source": [
    "user_raw = pd.read_csv(\"../data/source/\" + \"wow3_user_mysql.csv\", names = [\"user_id\", \"review_count\", \"average_stars\", \n",
    "                                               \"friends\", \"fans\", \"votes_cool\", \"votes_funny\", \n",
    "                                               \"votes_useful\", \"num\", \"degree\", \"coefficient\"])\n",
    "\n",
    "business_raw = pd.read_csv(\"../data/source/\"+\"wow3_business_mysql.csv\", names = [\"business_id\", \"name\", \"latitude\", \n",
    "                                                           \"longitude\", \"stars\", \"categories\", \n",
    "                                                           \"review_count\", \"open\"])\n",
    "review_raw = pd.read_csv(\"../data/source/\"+\"wow3_review_mysql.csv\", names = [\"review_id\", \"user_id\", \"business_id\", \n",
    "                                                       \"stars\", \"text\", \"date\", \"votes_funny\", \n",
    "                                                       \"votes_useful\"])\n",
    "all_raw = pd.read_csv(\"../data/source/\"+\"wow3_all_mysql.csv\", names = [\"business_id\", \n",
    "                                                       \"name\", \"stars_business\",\"business_review_count\",\n",
    "                                                       \"categories\", \"open\", \"review_id\", \n",
    "                                                       \"stars_review\", \"text\", \"date\", \"votes_funny\", \n",
    "                                                       \"votes_useful\",\"user_id\", \"user_review_count\", \n",
    "                                                       \"average_stars\",\"friends\", \"fans\", \"num\", \n",
    "                                                       \"degree\", \"coefficient\"])"
   ]
  },
  {
   "cell_type": "code",
   "execution_count": null,
   "metadata": {
    "collapsed": true
   },
   "outputs": [],
   "source": [
    "bus_gb_df = deepcopy(all_raw)\n",
    "#Group by different businesses for different rates:\n",
    "bus_df = bus_gb_df.groupby(['business_id']).mean()\n",
    "bus_df['business_id'] = bus_df.index\n",
    "bus_df.index = range(len(bus_df))\n",
    "bus = list(set(bus_df['business_id']))\n",
    "ind = [True if i in bus else False for i in business_raw['business_id']]\n",
    "business_revised = business_raw[ind]\n",
    "\n",
    "#Merge two tables:\n",
    "lda_df = pd.merge(bus_df,business_revised,on='business_id')\n",
    "\n",
    "start_time = time.time()\n",
    "bus_topic = dict()\n",
    "cnt = 0\n",
    "for i in range(len(all_raw)):\n",
    "    ly = all_raw.text[i].lower()\n",
    "    ly = ly.translate(None, string.punctuation)\n",
    "    try:\n",
    "        tokens = nltk.word_tokenize(ly)\n",
    "        tokens = [lmtzr.lemmatize(word) for word in tokens]\n",
    "        tokens = [w for w in tokens if w not in stopwords.words(\"english\")]\n",
    "        #print tokens\n",
    "    except UnicodeDecodeError:\n",
    "        #print tokens\n",
    "        cnt += 1\n",
    "        continue\n",
    "    temp_bus = all_raw.business_id[i]\n",
    "    if temp_bus not in bus_topic:\n",
    "        bus_topic[temp_bus] = tokens\n",
    "    else:\n",
    "        bus_topic[temp_bus] += tokens\n",
    "\n",
    "print cnt\n",
    "\n",
    "print(\"--- %s seconds ---\" % (time.time() - start_time))\n",
    "\n",
    "lda_df['tokens'] = pd.Series(['']*len(lda_df),index = lda_df.index)\n",
    "print len(bus_topic)\n",
    "for bus in bus_topic:\n",
    "    #print bus\n",
    "    tempdf = lda_df[lda_df['business_id']==bus]\n",
    "    temptext = tempdf['categories'].values[0].lower()[1:-1]+', '.join(bus_topic[bus])\n",
    "    lda_df.set_value([tempdf.index[0]],'tokens',temptext)\n",
    "\n",
    "lda_df.to_csv('../web/data/business_LDA.csv')"
   ]
  },
  {
   "cell_type": "code",
   "execution_count": null,
   "metadata": {
    "collapsed": true
   },
   "outputs": [],
   "source": []
  },
  {
   "cell_type": "code",
   "execution_count": null,
   "metadata": {
    "collapsed": true
   },
   "outputs": [],
   "source": [
    "### Prediction 3: Rate prediction"
   ]
  },
  {
   "cell_type": "code",
   "execution_count": 3,
   "metadata": {
    "collapsed": true
   },
   "outputs": [],
   "source": [
    "from datetime import datetime\n",
    "import pandas as pd\n",
    "import numpy as np\n",
    "import nltk\n",
    "import random\n",
    "import time\n",
    "import string\n",
    "from nltk.corpus import stopwords\n",
    "from nltk.stem.wordnet import WordNetLemmatizer\n",
    "from sklearn.ensemble import RandomForestClassifier\n",
    "from copy import copy, deepcopy\n",
    "import collections\n",
    "import matplotlib.pyplot as plt\n",
    "from statsmodels.tsa.arima_model import ARIMA\n",
    "from statsmodels.tsa.stattools import adfuller\n",
    "from statsmodels.tsa.seasonal import seasonal_decompose\n",
    "from statsmodels.tsa.stattools import acf, pacf\n",
    "lmtzr=WordNetLemmatizer()"
   ]
  },
  {
   "cell_type": "code",
   "execution_count": 39,
   "metadata": {
    "collapsed": true
   },
   "outputs": [],
   "source": [
    "def prediction3(business_id):\n",
    "    #3. Business Rate Prediction(Time Series):\n",
    "    #Input: a given business_id\n",
    "    #Output: predicted result of next month's rate and model data visualization\n",
    "    sub_business = all_raw[all_raw['business_id']==business_id]\n",
    "    if len(sub_business) == 0:\n",
    "        return\n",
    "    dates = [datetime.strptime(date,'%Y-%m-%d') for date in sub_business.date.values]\n",
    "    rate_predict = pd.DataFrame()\n",
    "    rate_predict['rate'] = pd.Series(sub_business.stars_review.values,index = pd.Series(dates))\n",
    "    #Aggregation: group by month and take average\n",
    "    g = rate_predict.groupby(pd.TimeGrouper(\"M\"))\n",
    "    rate_predict_avg = g.mean()\n",
    "    #Rolling mean(Moving Average) of the monthly prediction:\n",
    "    moving_avg = pd.rolling_mean(rate_predict_avg,12)\n",
    "    rate_predict_moving_avg_diff = rate_predict_avg - moving_avg\n",
    "    decomposition = seasonal_decompose(rate_predict_avg)\n",
    "\n",
    "    trend = decomposition.trend\n",
    "    seasonal = decomposition.seasonal\n",
    "    residual = decomposition.resid\n",
    "\n",
    "    rate_predict_log_decompose = residual\n",
    "    rate_predict_log_decompose.dropna(inplace=True)\n",
    "    model = ARIMA(rate_predict_avg, order=(1, 1, 0))  \n",
    "    results_AR = model.fit(disp=-1)  \n",
    "    save_business_id = business_id.replace('-', '_')\n",
    "    rate_predict_log_decompose.to_csv('../web/data/rate/' + save_business_id + '_actual.csv', header=False)\n",
    "    results_AR.fittedvalues.to_csv('../web/data/rate/' + save_business_id + '_prediction.csv', header=False)"
   ]
  },
  {
   "cell_type": "code",
   "execution_count": 40,
   "metadata": {
    "collapsed": false
   },
   "outputs": [
    {
     "name": "stderr",
     "output_type": "stream",
     "text": [
      "/usr/local/lib/python2.7/dist-packages/ipykernel/__main__.py:16: FutureWarning: pd.rolling_mean is deprecated for DataFrame and will be removed in a future version, replace with \n",
      "\tDataFrame.rolling(window=12,center=False).mean()\n"
     ]
    }
   ],
   "source": [
    "error = []\n",
    "for i in range(len(business_raw)):\n",
    "    try:\n",
    "        prediction3(business_raw['business_id'][i])\n",
    "    except:\n",
    "        #print business_raw['business_id'][i]\n",
    "        error.append(business_raw['business_id'][i])\n"
   ]
  },
  {
   "cell_type": "code",
   "execution_count": null,
   "metadata": {
    "collapsed": true
   },
   "outputs": [],
   "source": []
  }
 ],
 "metadata": {
  "kernelspec": {
   "display_name": "Python 2",
   "language": "python",
   "name": "python2"
  },
  "language_info": {
   "codemirror_mode": {
    "name": "ipython",
    "version": 2
   },
   "file_extension": ".py",
   "mimetype": "text/x-python",
   "name": "python",
   "nbconvert_exporter": "python",
   "pygments_lexer": "ipython2",
   "version": "2.7.12"
  }
 },
 "nbformat": 4,
 "nbformat_minor": 2
}
